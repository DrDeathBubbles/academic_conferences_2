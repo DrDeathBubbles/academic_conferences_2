{
 "cells": [
  {
   "cell_type": "code",
   "execution_count": 1,
   "metadata": {
    "collapsed": true
   },
   "outputs": [],
   "source": [
    "import zs.bibtex as zs\n",
    "from zs.bibtex.parser import parse_string\n",
    "import networkx as nx\n",
    "import itertools\n",
    "import subprocess"
   ]
  },
  {
   "cell_type": "code",
   "execution_count": 1,
   "metadata": {
    "collapsed": true
   },
   "outputs": [],
   "source": [
    "with open('./citations.txt') as f:\n",
    "    data = f.read()"
   ]
  },
  {
   "cell_type": "code",
   "execution_count": 6,
   "metadata": {
    "collapsed": false
   },
   "outputs": [],
   "source": [
    "temp = data.split('@')"
   ]
  },
  {
   "cell_type": "code",
   "execution_count": 11,
   "metadata": {
    "collapsed": false
   },
   "outputs": [],
   "source": [
    "temp2 = '@' + temp[1].replace('\\n', '')"
   ]
  },
  {
   "cell_type": "code",
   "execution_count": 16,
   "metadata": {
    "collapsed": false
   },
   "outputs": [],
   "source": [
    "temp3 = parse_string(temp2)"
   ]
  },
  {
   "cell_type": "code",
   "execution_count": 21,
   "metadata": {
    "collapsed": false
   },
   "outputs": [
    {
     "data": {
      "text/plain": [
       "{'author': ['Einstein, Albert', 'Podolsky, Boris', 'Rosen, Nathan'],\n",
       " 'journal': 'Physical review',\n",
       " 'number': '10',\n",
       " 'pages': '777',\n",
       " 'publisher': 'APS',\n",
       " 'title': 'Can quantum-mechanical description of physical reality be considered complete?',\n",
       " 'volume': '47',\n",
       " 'year': '1935'}"
      ]
     },
     "execution_count": 21,
     "metadata": {},
     "output_type": "execute_result"
    }
   ],
   "source": [
    "temp3['einstein1935can']"
   ]
  },
  {
   "cell_type": "code",
   "execution_count": 2,
   "metadata": {
    "collapsed": true
   },
   "outputs": [],
   "source": [
    "def parsing_csv(data):\n",
    "    temp = str(data)[2:].split('@')\n",
    "    temp = ['@' + i.replace('\\\\n','').replace(\"'\",\"\").replace('\"','') for i in temp]\n",
    "    temp = [parse_string(i) for i in temp[1:]]\n",
    "    return temp"
   ]
  },
  {
   "cell_type": "code",
   "execution_count": 3,
   "metadata": {
    "collapsed": true
   },
   "outputs": [],
   "source": [
    "def processing_parse(data):\n",
    "    out = [i[list(i.keys())[0]]['author'] for i in data]\n",
    "    return out"
   ]
  },
  {
   "cell_type": "code",
   "execution_count": 4,
   "metadata": {
    "collapsed": true
   },
   "outputs": [],
   "source": [
    "def processing_parse(data):\n",
    "    out = []\n",
    "    for i in data:\n",
    "        authors = i[list(i.keys())[0]]['author']\n",
    "        title = i[list(i.keys())[0]]['title']\n",
    "        out.append({'author':authors,'title':title})\n",
    "        print(authors,title)\n",
    "    return out\n",
    "        #print(i[list(i.keys())[0]]['author'])"
   ]
  },
  {
   "cell_type": "code",
   "execution_count": 5,
   "metadata": {
    "collapsed": true
   },
   "outputs": [],
   "source": [
    "def python_request_author(author):\n",
    "    test = subprocess.Popen([\"python2\", \"scholar.py\",\"-c\",\"50\",\"-a\",\"{}\".format(author),'--citation=bt'], stdout=subprocess.PIPE)\n",
    "    output = test.communicate()[0]\n",
    "    return output\n"
   ]
  },
  {
   "cell_type": "code",
   "execution_count": 6,
   "metadata": {
    "collapsed": true
   },
   "outputs": [],
   "source": [
    "def python_request_words(words):\n",
    "    test = subprocess.Popen([\"python2\", \"scholar.py\",\"-c\",\"50\",\"-all\",\"{}\".format(words),'--citation=bt'], stdout=subprocess.PIPE)\n",
    "    output = test.communicate()[0]\n",
    "    return output"
   ]
  },
  {
   "cell_type": "code",
   "execution_count": 12,
   "metadata": {
    "collapsed": false
   },
   "outputs": [],
   "source": [
    "aaron = python_request_author('Aaron Meagher')"
   ]
  },
  {
   "cell_type": "code",
   "execution_count": 13,
   "metadata": {
    "collapsed": false
   },
   "outputs": [
    {
     "data": {
      "text/plain": [
       "b''"
      ]
     },
     "execution_count": 13,
     "metadata": {},
     "output_type": "execute_result"
    }
   ],
   "source": [
    "aaron"
   ]
  },
  {
   "cell_type": "code",
   "execution_count": 136,
   "metadata": {
    "collapsed": true
   },
   "outputs": [],
   "source": [
    "test = python_request_words('Bubbles')"
   ]
  },
  {
   "cell_type": "code",
   "execution_count": 144,
   "metadata": {
    "collapsed": false,
    "scrolled": false
   },
   "outputs": [
    {
     "name": "stdout",
     "output_type": "stream",
     "text": [
      "['Parasuraman, Anantharanthan', 'Zeithaml, Valarie A', 'Berry, Leonard L'] Servqual: A multiple-item scale for measuring consumer perc\n",
      "['Parasuraman, Anantharanthan', 'Zeithaml, Valarie A', 'Berry, Leonard L'] A conceptual model of service quality and its implications for future research\n",
      "['Zeithaml, Valarie A', 'Berry, Leonard L', 'Parasuraman, Ananthanarayanan'] The behavioral consequences of service quality\n",
      "['Lander, Eric S', 'Linton, Lauren M', 'Birren, Bruce', 'Nusbaum, Chad', 'Zody, Michael C', 'Baldwin, Jennifer', 'Devon, Keri', 'Dewar, Ken', 'Doyle, Michael', 'FitzHugh, William', 'others'] Initial sequencing and analysis of the human genome\n",
      "['Aad, Georges', 'Abajyan, T', 'Abbott, B', 'Abdallah, J', 'Khalek, S Abdel', 'Abdelalim, AA', 'Abdinov, O', 'Aben, R', 'Abi, B', 'Abolins, M', 'others'] Observation of a new particle in the search for the Standard Model Higgs boson with the ATLAS detector at the LHC\n",
      "['Krug, Etienne G', 'Mercy, James A', 'Dahlberg, Linda L', 'Zwi, Anthony B'] The world report on violence and health\n",
      "['Emerson, Robert M', 'Fretz, Rachel I', 'Shaw, Linda L'] Writing ethnographic fieldnotes\n",
      "['Kelly, K Lance', 'Coronado, Eduardo', 'Zhao, Lin Lin', 'Schatz, George C', 'others'] The optical properties of metal nanoparticles: the influence of size, shape, and dielectric environment\n",
      "['Kleinbaum, David G', 'Kupper, Lawrence L', 'Morgenstern, Hal'] Epidemiologic research: principles and quantitative methods\n",
      "['Regier, Darrel A', 'Farmer, Mary E', 'Rae, Donald S', 'Locke, Ben Z', 'Keith, Samuel J', 'Judd, Lewis L', 'Goodwin, Frederick K'] Comorbidity of mental disorders with alcohol and other drug abuse: results from the Epidemiologic Catchment Area (ECA) study\n"
     ]
    }
   ],
   "source": [
    "temp6 = parsing_csv(test)\n",
    "temp7 = processing_parse(temp6)"
   ]
  },
  {
   "cell_type": "code",
   "execution_count": 174,
   "metadata": {
    "collapsed": false,
    "scrolled": true
   },
   "outputs": [],
   "source": [
    "G = nx.Graph()\n",
    "seed_word = 'Bubbles'\n",
    "initial_seed = python_request_words(seed_word)\n",
    "initial_seed_processed = parsing_csv(initial_seed)\n",
    "for paper in initial_seed_processed:\n",
    "    #paper[list(paper.keys())][0]\n",
    "    element = paper[list(paper.keys())[0]]\n",
    "    authors = element['author']\n",
    "    title = element['title']\n",
    "    for author in authors:\n",
    "        G.add_node(author,title = title)\n",
    "    a = list(itertools.combinations(authors,2))\n",
    "    for i in a:\n",
    "        G.add_edge(*i)"
   ]
  },
  {
   "cell_type": "code",
   "execution_count": 15,
   "metadata": {
    "collapsed": false,
    "scrolled": true
   },
   "outputs": [
    {
     "name": "stdout",
     "output_type": "stream",
     "text": [
      "['Parasuraman, Anantharanthan', 'Zeithaml, Valarie A', 'Berry, Leonard L'] Servqual: A multiple-item scale for measuring consumer perc\n",
      "['Parasuraman, Anantharanthan', 'Zeithaml, Valarie A', 'Berry, Leonard L'] A conceptual model of service quality and its implications for future research\n",
      "['Parasuraman, Anantharanthan', 'Berry, Leonard L', 'Zeithaml, Valarie A'] Refinement and reassessment of the SERVQUAL scale\n",
      "['Berry, Leonard L', 'Parasuraman, Anantharanthan'] Marketing services: Competing through quality\n",
      "['Zeithaml, Valarie A', 'Berry, Leonard L', 'Parasuraman, Anantharanthan'] Communication and control processes in the delivery of service quality\n",
      "['Berry, Leonard L', 'Zeithaml, Valarie A', 'Parasuraman, Anantharanthan'] Five imperatives for improving service quality\n",
      "['Berry, Leonard L', 'Parasuraman, Anantharanthan', 'Zeithaml, Valarie A'] The service-quality puzzle\n",
      "['Berry, Leonard L', 'Parasuraman, Anantharanthan', 'Zeithaml, Valerie A'] Improving service quality in America: lessons learned\n",
      "['Johnston, Mark W', 'Parasuraman, Anantharanthan', 'Futrell, Charles M', 'Black, William C'] A longitudinal assessment of the impact of selected organizational influences on salespeoples organizational commitment during early employment\n",
      "['Parasuraman, Anantharanthan', 'Berry, Leonard L', 'Zeithaml, Valarie A'] Perceived service quality as a customer-based performance measure: An empirical examination of organizational barriers using an extended service quality model\n",
      "['Parasuraman, Anantharanthan', 'Zeithaml, Valarie A', 'Berry, Leonard L'] Servqual: A multiple-item scale for measuring consumer perc\n",
      "['Parasuraman, Anantharanthan', 'Zeithaml, Valarie A', 'Berry, Leonard L'] A conceptual model of service quality and its implications for future research\n",
      "['Zeithaml, Valarie A', 'Berry, Leonard L', 'Parasuraman, Ananthanarayanan'] The behavioral consequences of service quality\n",
      "Zeithaml, Valarie A Consumer perceptions of price, quality, and value: a means-end model and synthesis of evidence\n",
      "['Zeithaml, Valarie A', 'Bitner, Mary Jo', 'Gremler, Dwayne D'] Services marketing: Integrating customer focus across the firm\n",
      "['Zeithaml, Valarie A', 'Parasuraman, Anathanarayanan', 'Berry, Leonard L'] Delivering quality service: Balancing customer perceptions and expectations\n",
      "['Parasuraman, Anantharanthan', 'Berry, Leonard L', 'Zeithaml, Valarie A'] Refinement and reassessment of the SERVQUAL scale\n",
      "['Boulding, William', 'Kalra, Ajay', 'Staelin, Richard', 'Zeithaml, Valarie A'] A dynamic process model of service quality: from expectations to behavioral intentions\n",
      "['Parasuraman, Ananthanarayanan', 'Zeithaml, Valarie A', 'Berry, Leonard L'] Reassessment of expectations as a comparison standard in measuring service quality: implications for further research\n",
      "['Zeithaml, Valarie A', 'Parasuraman, Ananthanarayanan', 'Berry, Leonard L'] Problems and strategies in services marketing\n"
     ]
    }
   ],
   "source": [
    "G = nx.Graph()\n",
    "author_list = []\n",
    "seed_word = 'Bubbles'\n",
    "initial_seed = python_request_words(seed_word)\n",
    "initial_seed_processed = parsing_csv(initial_seed)\n",
    "for paper in initial_seed_processed:\n",
    "    #paper[list(paper.keys())][0]\n",
    "    element = paper[list(paper.keys())[0]]\n",
    "    authors = element['author']\n",
    "    title = element['title']\n",
    "    for author in authors:\n",
    "        author_list.extend([author])\n",
    "        G.add_node(author,title = title)\n",
    "    a = list(itertools.combinations(authors,2))\n",
    "    for i in a:\n",
    "        G.add_edge(*i)\n",
    "\n",
    "for author in author_list[:2]:\n",
    "    temp = python_request_author(author)\n",
    "    if len(temp) == 0:\n",
    "        print('')\n",
    "        break \n",
    "    temp = parsing_csv(temp)\n",
    "    temp = processing_parse(temp)\n",
    "    for element in temp:\n",
    "        for author_2 in element['author']:\n",
    "            author_list.append(author_2)\n",
    "            G.add_node(author,title = element['title'])\n",
    "        \n",
    "        a = list(itertools.combinations(element['author'],2))\n",
    "        for i in a:\n",
    "            G.add_edge(*i)\n",
    "    nx.write_gml(G,seed_word + '.gml')\n",
    "    nx.write_gpickle(G,seed_word + '.pickle')\n",
    "            "
   ]
  },
  {
   "cell_type": "code",
   "execution_count": 16,
   "metadata": {
    "collapsed": true
   },
   "outputs": [],
   "source": [
    "!open ."
   ]
  },
  {
   "cell_type": "code",
   "execution_count": 9,
   "metadata": {
    "collapsed": false,
    "scrolled": true
   },
   "outputs": [
    {
     "name": "stdout",
     "output_type": "stream",
     "text": [
      "['Parasuraman, Anantharanthan', 'Zeithaml, Valarie A', 'Berry, Leonard L'] Servqual: A multiple-item scale for measuring consumer perc\n",
      "['Parasuraman, Anantharanthan', 'Zeithaml, Valarie A', 'Berry, Leonard L'] A conceptual model of service quality and its implications for future research\n",
      "['Zeithaml, Valarie A', 'Berry, Leonard L', 'Parasuraman, Ananthanarayanan'] The behavioral consequences of service quality\n",
      "Zeithaml, Valarie A Consumer perceptions of price, quality, and value: a means-end model and synthesis of evidence\n",
      "['Zeithaml, Valarie A', 'Bitner, Mary Jo', 'Gremler, Dwayne D'] Services marketing: Integrating customer focus across the firm\n",
      "['Zeithaml, Valarie A', 'Parasuraman, Anathanarayanan', 'Berry, Leonard L'] Delivering quality service: Balancing customer perceptions and expectations\n",
      "['Parasuraman, Anantharanthan', 'Berry, Leonard L', 'Zeithaml, Valarie A'] Refinement and reassessment of the SERVQUAL scale\n",
      "['Boulding, William', 'Kalra, Ajay', 'Staelin, Richard', 'Zeithaml, Valarie A'] A dynamic process model of service quality: from expectations to behavioral intentions\n",
      "['Parasuraman, Ananthanarayanan', 'Zeithaml, Valarie A', 'Berry, Leonard L'] Reassessment of expectations as a comparison standard in measuring service quality: implications for further research\n",
      "['Zeithaml, Valarie A', 'Parasuraman, Ananthanarayanan', 'Berry, Leonard L'] Problems and strategies in services marketing\n"
     ]
    }
   ],
   "source": [
    "temp2 = processing_parse(temp)\n"
   ]
  },
  {
   "cell_type": "code",
   "execution_count": 13,
   "metadata": {
    "collapsed": true
   },
   "outputs": [],
   "source": [
    "for element in temp2:\n",
    "    for author_2 in element['author']:\n",
    "        author_list.append(author_2)\n",
    "        G.add_node(author,title = element['title'])\n",
    "        \n",
    "    a = list(itertools.combinations(element['author'],2))\n",
    "    for i in a:\n",
    "        G.add_edge(*i)\n",
    "            "
   ]
  },
  {
   "cell_type": "code",
   "execution_count": 14,
   "metadata": {
    "collapsed": false
   },
   "outputs": [
    {
     "data": {
      "text/plain": [
       "['Dewar, Ken',\n",
       " 'Berry, Leonard L',\n",
       " 'Goodwin, Frederick K',\n",
       " 'h',\n",
       " 'Parasuraman, Anantharanthan',\n",
       " 'Morgenstern, Hal',\n",
       " 'V',\n",
       " 'others',\n",
       " 'm',\n",
       " 'Lander, Eric S',\n",
       " 'Zeithaml, Valarie A',\n",
       " 'Abi, B',\n",
       " 'Zhao, Lin Lin',\n",
       " 'i',\n",
       " 'Keith, Samuel J',\n",
       " 'Aad, Georges',\n",
       " 'Baldwin, Jennifer',\n",
       " 'Farmer, Mary E',\n",
       " 'Abolins, M',\n",
       " 'Rae, Donald S',\n",
       " 'Devon, Keri',\n",
       " 'Nusbaum, Chad',\n",
       " ',',\n",
       " 'Aben, R',\n",
       " 'r',\n",
       " 'Abdallah, J',\n",
       " 'Judd, Lewis L',\n",
       " 'Khalek, S Abdel',\n",
       " 'Gremler, Dwayne D',\n",
       " 'Kleinbaum, David G',\n",
       " 'Regier, Darrel A',\n",
       " 'a',\n",
       " ' ',\n",
       " 'FitzHugh, William',\n",
       " 'Abdelalim, AA',\n",
       " 'Schatz, George C',\n",
       " 'Mercy, James A',\n",
       " 'Kelly, K Lance',\n",
       " 't',\n",
       " 'Linton, Lauren M',\n",
       " 'Kupper, Lawrence L',\n",
       " 'Bitner, Mary Jo',\n",
       " 'l',\n",
       " 'Abajyan, T',\n",
       " 'Coronado, Eduardo',\n",
       " 'Parasuraman, Anathanarayanan',\n",
       " 'Zwi, Anthony B',\n",
       " 'A',\n",
       " 'Krug, Etienne G',\n",
       " 'Boulding, William',\n",
       " 'Z',\n",
       " 'Emerson, Robert M',\n",
       " 'e',\n",
       " 'Shaw, Linda L',\n",
       " 'Staelin, Richard',\n",
       " 'Dahlberg, Linda L',\n",
       " 'Locke, Ben Z',\n",
       " 'Parasuraman, Ananthanarayanan',\n",
       " 'Abdinov, O',\n",
       " 'Kalra, Ajay',\n",
       " 'Fretz, Rachel I',\n",
       " 'Birren, Bruce',\n",
       " 'Zody, Michael C',\n",
       " 'Doyle, Michael',\n",
       " 'Abbott, B']"
      ]
     },
     "execution_count": 14,
     "metadata": {},
     "output_type": "execute_result"
    }
   ],
   "source": [
    "G.nodes()"
   ]
  },
  {
   "cell_type": "code",
   "execution_count": 12,
   "metadata": {
    "collapsed": false
   },
   "outputs": [
    {
     "data": {
      "text/plain": [
       "'Servqual: A multiple-item scale for measuring consumer perc'"
      ]
     },
     "execution_count": 12,
     "metadata": {},
     "output_type": "execute_result"
    }
   ],
   "source": [
    "temp2[0]['title']"
   ]
  },
  {
   "cell_type": "code",
   "execution_count": 17,
   "metadata": {
    "collapsed": false
   },
   "outputs": [
    {
     "data": {
      "text/plain": [
       "b''"
      ]
     },
     "execution_count": 17,
     "metadata": {},
     "output_type": "execute_result"
    }
   ],
   "source": [
    "initial_seed"
   ]
  },
  {
   "cell_type": "code",
   "execution_count": 225,
   "metadata": {
    "collapsed": false
   },
   "outputs": [
    {
     "data": {
      "text/plain": [
       "{'parasuraman1991perceived': {'author': ['Parasuraman, Anantharanthan',\n",
       "   'Berry, Leonard L',\n",
       "   'Zeithaml, Valarie A'],\n",
       "  'journal': 'Human Resource Management',\n",
       "  'number': '3',\n",
       "  'pages': '335--364',\n",
       "  'publisher': 'Wiley Online Library',\n",
       "  'title': 'Perceived service quality as a customer-based performance measure: An empirical examination of organizational barriers using an extended service quality model',\n",
       "  'volume': '30',\n",
       "  'year': '1991'}}"
      ]
     },
     "execution_count": 225,
     "metadata": {},
     "output_type": "execute_result"
    }
   ],
   "source": [
    "temp2 = ['@' + i.replace('\\\\n','') for i in str(temp).split('@')[1:]]\n",
    "temp2[9]\n",
    "parse_string(temp2[9].replace('\"',''))"
   ]
  },
  {
   "cell_type": "code",
   "execution_count": 193,
   "metadata": {
    "collapsed": false
   },
   "outputs": [
    {
     "data": {
      "text/plain": [
       "'Judd, Lewis L'"
      ]
     },
     "execution_count": 193,
     "metadata": {},
     "output_type": "execute_result"
    }
   ],
   "source": [
    "i[0]"
   ]
  },
  {
   "cell_type": "code",
   "execution_count": 180,
   "metadata": {
    "collapsed": false
   },
   "outputs": [],
   "source": [
    "temp = [1,2,3,4,5]"
   ]
  },
  {
   "cell_type": "code",
   "execution_count": 188,
   "metadata": {
    "collapsed": false
   },
   "outputs": [],
   "source": [
    "temp.extend([6])"
   ]
  },
  {
   "cell_type": "code",
   "execution_count": 189,
   "metadata": {
    "collapsed": false
   },
   "outputs": [
    {
     "data": {
      "text/plain": [
       "[1, 2, 3, 4, 6]"
      ]
     },
     "execution_count": 189,
     "metadata": {},
     "output_type": "execute_result"
    }
   ],
   "source": [
    "temp"
   ]
  },
  {
   "cell_type": "code",
   "execution_count": 186,
   "metadata": {
    "collapsed": false,
    "scrolled": true
   },
   "outputs": [
    {
     "name": "stdout",
     "output_type": "stream",
     "text": [
      "Error\n"
     ]
    }
   ],
   "source": [
    "try:\n",
    "    temp.remove(6)\n",
    "except:\n",
    "    print('Error')"
   ]
  },
  {
   "cell_type": "code",
   "execution_count": 184,
   "metadata": {
    "collapsed": false
   },
   "outputs": [
    {
     "data": {
      "text/plain": [
       "[1, 2, 3, 4]"
      ]
     },
     "execution_count": 184,
     "metadata": {},
     "output_type": "execute_result"
    }
   ],
   "source": [
    "temp"
   ]
  },
  {
   "cell_type": "code",
   "execution_count": 169,
   "metadata": {
    "collapsed": false
   },
   "outputs": [
    {
     "data": {
      "text/plain": [
       "{'title': 'The optical properties of metal nanoparticles: the influence of size, shape, and dielectric environment'}"
      ]
     },
     "execution_count": 169,
     "metadata": {},
     "output_type": "execute_result"
    }
   ],
   "source": [
    "G.node['Zhao, Lin Lin']"
   ]
  },
  {
   "cell_type": "code",
   "execution_count": 1,
   "metadata": {
    "collapsed": false
   },
   "outputs": [
    {
     "ename": "NameError",
     "evalue": "name 'G' is not defined",
     "output_type": "error",
     "traceback": [
      "\u001b[0;31m---------------------------------------------------------------------------\u001b[0m",
      "\u001b[0;31mNameError\u001b[0m                                 Traceback (most recent call last)",
      "\u001b[0;32m<ipython-input-1-9e8b9f7fe1d1>\u001b[0m in \u001b[0;36m<module>\u001b[0;34m()\u001b[0m\n\u001b[0;32m----> 1\u001b[0;31m \u001b[0mG\u001b[0m\u001b[0;34m.\u001b[0m\u001b[0medges\u001b[0m\u001b[0;34m(\u001b[0m\u001b[0;34m)\u001b[0m\u001b[0;34m\u001b[0m\u001b[0m\n\u001b[0m",
      "\u001b[0;31mNameError\u001b[0m: name 'G' is not defined"
     ]
    }
   ],
   "source": [
    "G.edges()"
   ]
  },
  {
   "cell_type": "code",
   "execution_count": 165,
   "metadata": {
    "collapsed": false
   },
   "outputs": [
    {
     "data": {
      "text/plain": [
       "['Regier, Darrel A',\n",
       " 'Farmer, Mary E',\n",
       " 'Rae, Donald S',\n",
       " 'Locke, Ben Z',\n",
       " 'Keith, Samuel J',\n",
       " 'Judd, Lewis L',\n",
       " 'Goodwin, Frederick K']"
      ]
     },
     "execution_count": 165,
     "metadata": {},
     "output_type": "execute_result"
    }
   ],
   "source": [
    "authors"
   ]
  },
  {
   "cell_type": "code",
   "execution_count": 158,
   "metadata": {
    "collapsed": false
   },
   "outputs": [
    {
     "data": {
      "text/plain": [
       "{'parasuraman1988servqual': {'author': ['Parasuraman, Anantharanthan',\n",
       "   'Zeithaml, Valarie A',\n",
       "   'Berry, Leonard L'],\n",
       "  'journal': 'Journal of retailing',\n",
       "  'number': '1',\n",
       "  'pages': '12',\n",
       "  'publisher': 'New York University',\n",
       "  'title': 'Servqual: A multiple-item scale for measuring consumer perc',\n",
       "  'volume': '64',\n",
       "  'year': '1988'}}"
      ]
     },
     "execution_count": 158,
     "metadata": {},
     "output_type": "execute_result"
    }
   ],
   "source": [
    "paper"
   ]
  },
  {
   "cell_type": "code",
   "execution_count": 162,
   "metadata": {
    "collapsed": false
   },
   "outputs": [
    {
     "data": {
      "text/plain": [
       "['Regier, Darrel A',\n",
       " 'Farmer, Mary E',\n",
       " 'Rae, Donald S',\n",
       " 'Locke, Ben Z',\n",
       " 'Keith, Samuel J',\n",
       " 'Judd, Lewis L',\n",
       " 'Goodwin, Frederick K']"
      ]
     },
     "execution_count": 162,
     "metadata": {},
     "output_type": "execute_result"
    }
   ],
   "source": [
    "paper[list(paper.keys())[0]]['author']"
   ]
  },
  {
   "cell_type": "code",
   "execution_count": 152,
   "metadata": {
    "collapsed": false
   },
   "outputs": [
    {
     "data": {
      "text/plain": [
       "[{'parasuraman1988servqual': {'author': ['Parasuraman, Anantharanthan',\n",
       "    'Zeithaml, Valarie A',\n",
       "    'Berry, Leonard L'],\n",
       "   'journal': 'Journal of retailing',\n",
       "   'number': '1',\n",
       "   'pages': '12',\n",
       "   'publisher': 'New York University',\n",
       "   'title': 'Servqual: A multiple-item scale for measuring consumer perc',\n",
       "   'volume': '64',\n",
       "   'year': '1988'}},\n",
       " {'parasuraman1985conceptual': {'author': ['Parasuraman, Anantharanthan',\n",
       "    'Zeithaml, Valarie A',\n",
       "    'Berry, Leonard L'],\n",
       "   'journal': 'the Journal of Marketing',\n",
       "   'pages': '41--50',\n",
       "   'publisher': 'JSTOR',\n",
       "   'title': 'A conceptual model of service quality and its implications for future research',\n",
       "   'year': '1985'}},\n",
       " {'zeithaml1996behavioral': {'author': ['Zeithaml, Valarie A',\n",
       "    'Berry, Leonard L',\n",
       "    'Parasuraman, Ananthanarayanan'],\n",
       "   'journal': 'the Journal of Marketing',\n",
       "   'pages': '31--46',\n",
       "   'publisher': 'JSTOR',\n",
       "   'title': 'The behavioral consequences of service quality',\n",
       "   'year': '1996'}},\n",
       " {'lander2001initial': {'author': ['Lander, Eric S',\n",
       "    'Linton, Lauren M',\n",
       "    'Birren, Bruce',\n",
       "    'Nusbaum, Chad',\n",
       "    'Zody, Michael C',\n",
       "    'Baldwin, Jennifer',\n",
       "    'Devon, Keri',\n",
       "    'Dewar, Ken',\n",
       "    'Doyle, Michael',\n",
       "    'FitzHugh, William',\n",
       "    'others'],\n",
       "   'journal': 'Nature',\n",
       "   'number': '6822',\n",
       "   'pages': '860--921',\n",
       "   'publisher': 'Nature Publishing Group',\n",
       "   'title': 'Initial sequencing and analysis of the human genome',\n",
       "   'volume': '409',\n",
       "   'year': '2001'}},\n",
       " {'aad2012observation': {'author': ['Aad, Georges',\n",
       "    'Abajyan, T',\n",
       "    'Abbott, B',\n",
       "    'Abdallah, J',\n",
       "    'Khalek, S Abdel',\n",
       "    'Abdelalim, AA',\n",
       "    'Abdinov, O',\n",
       "    'Aben, R',\n",
       "    'Abi, B',\n",
       "    'Abolins, M',\n",
       "    'others'],\n",
       "   'journal': 'Physics Letters B',\n",
       "   'number': '1',\n",
       "   'pages': '1--29',\n",
       "   'publisher': 'Elsevier',\n",
       "   'title': 'Observation of a new particle in the search for the Standard Model Higgs boson with the ATLAS detector at the LHC',\n",
       "   'volume': '716',\n",
       "   'year': '2012'}},\n",
       " {'krug2002world': {'author': ['Krug, Etienne G',\n",
       "    'Mercy, James A',\n",
       "    'Dahlberg, Linda L',\n",
       "    'Zwi, Anthony B'],\n",
       "   'journal': 'The lancet',\n",
       "   'number': '9339',\n",
       "   'pages': '1083--1088',\n",
       "   'publisher': 'Elsevier',\n",
       "   'title': 'The world report on violence and health',\n",
       "   'volume': '360',\n",
       "   'year': '2002'}},\n",
       " {'emerson2011writing': {'author': ['Emerson, Robert M',\n",
       "    'Fretz, Rachel I',\n",
       "    'Shaw, Linda L'],\n",
       "   'publisher': 'University of Chicago Press',\n",
       "   'title': 'Writing ethnographic fieldnotes',\n",
       "   'year': '2011'}},\n",
       " {'kelly2003optical': {'author': ['Kelly, K Lance',\n",
       "    'Coronado, Eduardo',\n",
       "    'Zhao, Lin Lin',\n",
       "    'Schatz, George C',\n",
       "    'others'],\n",
       "   'journal': 'Journal of Physical Chemistry B-Condensed Phase',\n",
       "   'number': '3',\n",
       "   'pages': '668--677',\n",
       "   'publisher': 'Washington, DC: American Chemical Society, c1997-',\n",
       "   'title': 'The optical properties of metal nanoparticles: the influence of size, shape, and dielectric environment',\n",
       "   'volume': '107',\n",
       "   'year': '2003'}},\n",
       " {'kleinbaum1982epidemiologic': {'author': ['Kleinbaum, David G',\n",
       "    'Kupper, Lawrence L',\n",
       "    'Morgenstern, Hal'],\n",
       "   'publisher': 'John Wiley \\\\\\\\& Sons',\n",
       "   'title': 'Epidemiologic research: principles and quantitative methods',\n",
       "   'year': '1982'}},\n",
       " {'regier1990comorbidity': {'author': ['Regier, Darrel A',\n",
       "    'Farmer, Mary E',\n",
       "    'Rae, Donald S',\n",
       "    'Locke, Ben Z',\n",
       "    'Keith, Samuel J',\n",
       "    'Judd, Lewis L',\n",
       "    'Goodwin, Frederick K'],\n",
       "   'journal': 'Jama',\n",
       "   'number': '19',\n",
       "   'pages': '2511--2518',\n",
       "   'publisher': 'American Medical Association',\n",
       "   'title': 'Comorbidity of mental disorders with alcohol and other drug abuse: results from the Epidemiologic Catchment Area (ECA) study',\n",
       "   'volume': '264',\n",
       "   'year': '1990'}}]"
      ]
     },
     "execution_count": 152,
     "metadata": {},
     "output_type": "execute_result"
    }
   ],
   "source": [
    "initial_seed_processed"
   ]
  },
  {
   "cell_type": "code",
   "execution_count": 145,
   "metadata": {
    "collapsed": false
   },
   "outputs": [
    {
     "data": {
      "text/plain": [
       "[{'author': ['Parasuraman, Anantharanthan',\n",
       "   'Zeithaml, Valarie A',\n",
       "   'Berry, Leonard L'],\n",
       "  'title': 'Servqual: A multiple-item scale for measuring consumer perc'},\n",
       " {'author': ['Parasuraman, Anantharanthan',\n",
       "   'Zeithaml, Valarie A',\n",
       "   'Berry, Leonard L'],\n",
       "  'title': 'A conceptual model of service quality and its implications for future research'},\n",
       " {'author': ['Zeithaml, Valarie A',\n",
       "   'Berry, Leonard L',\n",
       "   'Parasuraman, Ananthanarayanan'],\n",
       "  'title': 'The behavioral consequences of service quality'},\n",
       " {'author': ['Lander, Eric S',\n",
       "   'Linton, Lauren M',\n",
       "   'Birren, Bruce',\n",
       "   'Nusbaum, Chad',\n",
       "   'Zody, Michael C',\n",
       "   'Baldwin, Jennifer',\n",
       "   'Devon, Keri',\n",
       "   'Dewar, Ken',\n",
       "   'Doyle, Michael',\n",
       "   'FitzHugh, William',\n",
       "   'others'],\n",
       "  'title': 'Initial sequencing and analysis of the human genome'},\n",
       " {'author': ['Aad, Georges',\n",
       "   'Abajyan, T',\n",
       "   'Abbott, B',\n",
       "   'Abdallah, J',\n",
       "   'Khalek, S Abdel',\n",
       "   'Abdelalim, AA',\n",
       "   'Abdinov, O',\n",
       "   'Aben, R',\n",
       "   'Abi, B',\n",
       "   'Abolins, M',\n",
       "   'others'],\n",
       "  'title': 'Observation of a new particle in the search for the Standard Model Higgs boson with the ATLAS detector at the LHC'},\n",
       " {'author': ['Krug, Etienne G',\n",
       "   'Mercy, James A',\n",
       "   'Dahlberg, Linda L',\n",
       "   'Zwi, Anthony B'],\n",
       "  'title': 'The world report on violence and health'},\n",
       " {'author': ['Emerson, Robert M', 'Fretz, Rachel I', 'Shaw, Linda L'],\n",
       "  'title': 'Writing ethnographic fieldnotes'},\n",
       " {'author': ['Kelly, K Lance',\n",
       "   'Coronado, Eduardo',\n",
       "   'Zhao, Lin Lin',\n",
       "   'Schatz, George C',\n",
       "   'others'],\n",
       "  'title': 'The optical properties of metal nanoparticles: the influence of size, shape, and dielectric environment'},\n",
       " {'author': ['Kleinbaum, David G', 'Kupper, Lawrence L', 'Morgenstern, Hal'],\n",
       "  'title': 'Epidemiologic research: principles and quantitative methods'},\n",
       " {'author': ['Regier, Darrel A',\n",
       "   'Farmer, Mary E',\n",
       "   'Rae, Donald S',\n",
       "   'Locke, Ben Z',\n",
       "   'Keith, Samuel J',\n",
       "   'Judd, Lewis L',\n",
       "   'Goodwin, Frederick K'],\n",
       "  'title': 'Comorbidity of mental disorders with alcohol and other drug abuse: results from the Epidemiologic Catchment Area (ECA) study'}]"
      ]
     },
     "execution_count": 145,
     "metadata": {},
     "output_type": "execute_result"
    }
   ],
   "source": [
    "temp7"
   ]
  },
  {
   "cell_type": "code",
   "execution_count": 126,
   "metadata": {
    "collapsed": false
   },
   "outputs": [],
   "source": [
    "temp = str(aaron)[2:]\n",
    "temp = temp.split('@')\n",
    "temp = ['@' + i.replace('\\\\n','').replace(\"'\",\"\") for i in temp]\n",
    "temp = [parse_string(i) for i in temp[1:]]"
   ]
  },
  {
   "cell_type": "code",
   "execution_count": 119,
   "metadata": {
    "collapsed": true
   },
   "outputs": [],
   "source": [
    "temp = \"@article{meagher2010nuclear,  title={Nuclear actin-related proteins at the core of epigenetic control},  author={Meagher, Richard B and Kandasamy, Muthugapatti K and Smith, Aaron P and McKinney, Elizabeth C},  journal={Plant signaling \\\\\\\\& behavior},  volume={5},  number={5},  pages={518--522},  year={2010},  publisher={Taylor \\\\\\\\& Francis}}\""
   ]
  },
  {
   "cell_type": "code",
   "execution_count": 120,
   "metadata": {
    "collapsed": false
   },
   "outputs": [
    {
     "data": {
      "text/plain": [
       "{'meagher2010nuclear': {'author': ['Meagher, Richard B',\n",
       "   'Kandasamy, Muthugapatti K',\n",
       "   'Smith, Aaron P',\n",
       "   'McKinney, Elizabeth C'],\n",
       "  'journal': 'Plant signaling \\\\\\\\& behavior',\n",
       "  'number': '5',\n",
       "  'pages': '518--522',\n",
       "  'publisher': 'Taylor \\\\\\\\& Francis',\n",
       "  'title': 'Nuclear actin-related proteins at the core of epigenetic control',\n",
       "  'volume': '5',\n",
       "  'year': '2010'}}"
      ]
     },
     "execution_count": 120,
     "metadata": {},
     "output_type": "execute_result"
    }
   ],
   "source": [
    "parse_string(temp)"
   ]
  },
  {
   "cell_type": "code",
   "execution_count": 34,
   "metadata": {
    "collapsed": false
   },
   "outputs": [],
   "source": [
    "temp = parsing_csv(data)"
   ]
  },
  {
   "cell_type": "code",
   "execution_count": 56,
   "metadata": {
    "collapsed": false
   },
   "outputs": [
    {
     "name": "stdout",
     "output_type": "stream",
     "text": [
      "['Einstein, Albert', 'Podolsky, Boris', 'Rosen, Nathan'] Can quantum-mechanical description of physical reality be considered complete?\n",
      "Einstein, Albert Investigations on the Theory of the Brownian Movement\n",
      "['Einstein, Albert', 'Cohen, ER'] The meaning of relativity\n",
      "Einstein, Albert Relativity: The special and the general theory\n",
      "['Einstein, Hans Albert', 'others'] The bed-load function for sediment transportation in open channel flows\n"
     ]
    }
   ],
   "source": [
    "processing_parse(temp)"
   ]
  },
  {
   "cell_type": "code",
   "execution_count": 80,
   "metadata": {
    "collapsed": false
   },
   "outputs": [],
   "source": [
    "import subprocess\n",
    "test = subprocess.Popen([\"python2\", \"scholar.py\",\"-a\",\"albert einstein\",'--citation=bt'], stdout=subprocess.PIPE)\n",
    "output = test.communicate()[0]"
   ]
  }
 ],
 "metadata": {
  "kernelspec": {
   "display_name": "Python 3",
   "language": "python",
   "name": "python3"
  },
  "language_info": {
   "codemirror_mode": {
    "name": "ipython",
    "version": 3
   },
   "file_extension": ".py",
   "mimetype": "text/x-python",
   "name": "python",
   "nbconvert_exporter": "python",
   "pygments_lexer": "ipython3",
   "version": "3.5.2"
  }
 },
 "nbformat": 4,
 "nbformat_minor": 0
}
