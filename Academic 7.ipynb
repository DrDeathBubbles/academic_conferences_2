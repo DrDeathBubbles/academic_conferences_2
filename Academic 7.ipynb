{
 "cells": [
  {
   "cell_type": "code",
   "execution_count": 78,
   "metadata": {
    "collapsed": false,
    "scrolled": true
   },
   "outputs": [
    {
     "name": "stdout",
     "output_type": "stream",
     "text": [
      "Populating the interactive namespace from numpy and matplotlib\n"
     ]
    }
   ],
   "source": [
    "# A small programme to\n",
    "import requests\n",
    "import networkx as nx\n",
    "import itertools\n",
    "import xmltodict\n",
    "import pandas as pd\n",
    "%pylab inline \n",
    "\n",
    "def search_all(term,start,stop):\n",
    "    r = requests.get('http://export.arxiv.org/api/query?search_query=all:{}&start={}&max_results={}'.format(term,start,stop))\n",
    "    return xmltodict.parse(r.text)\n",
    "\n",
    "def search_author(author,start,stop):\n",
    "    r = requests.get('http://export.arxiv.org/api/query?search_query=au:{}&start={}&max_results={}'.format(author,start,stop))\n",
    "    return xmltodict.parse(r.text)\n",
    "\n",
    "def authors_and_titles(b):\n",
    "    temp1 = []\n",
    "    temp2 = []\n",
    "    temp4 = []\n",
    "    temp5 = []\n",
    "    \n",
    "    if 'entry' not in b['feed'].keys():\n",
    "        return\n",
    "    \n",
    "    \n",
    "    if type(b['feed']['entry']) == list:\n",
    "        for entry in b['feed']['entry']:\n",
    "            if type(entry['author']) == list:\n",
    "                temp3 = []\n",
    "                for author in entry['author']:\n",
    "                    temp3.append(author['name'])\n",
    "                    temp4.extend([author['name']])\n",
    "                temp1.append(temp3)\n",
    "                temp5.append({'author':temp3,'title':entry['title']})\n",
    "            else: \n",
    "                temp4.extend([entry['author']['name']])\n",
    "                temp1.append(entry['author']['name'])\n",
    "                temp5.append({'author':entry['author']['name'],'title':entry['title']})\n",
    "            #temp1.append(entry['author'])\n",
    "            #temp1.append(entry['author'])\n",
    "            temp2.append(entry['title'])\n",
    "        return [temp5,temp1,temp4]\n",
    "    else:\n",
    "        return\n",
    "\n",
    "\n",
    "def new_network_generation(c):\n",
    "    for element in c:\n",
    "        if 'author' in element.keys():\n",
    "            for author in element['author']:\n",
    "                G.add_node(author,title = element['title'])\n",
    "\n",
    "            a = list(itertools.combinations(element['author'],2))\n",
    "            for i in a:\n",
    "                G.add_edge(*i)\n",
    "                \n",
    "\n",
    "                \n",
    "def run_network_analysis(word,length_1,length_2):                \n",
    "    #Initial seed\n",
    "    G = nx.Graph()\n",
    "    a = search_all(word,0,length_1)\n",
    "\n",
    "    author_list = authors_and_titles(a)\n",
    "\n",
    "    for i in author_list[2]:\n",
    "        b = search_author(i,'0',str(length_2))\n",
    "        b = authors_and_titles(b)\n",
    "        if type(b) != type(None):\n",
    "            new_network_generation(b[0])\n",
    "    return G          \n",
    "                \n",
    "\n",
    "def saving_graph(G,output_file):\n",
    "    with open(output_file,'a') as f:\n",
    "        for node in G.nodes():\n",
    "            f.write(\"{},{}\\n\".format(node,G.node[node]['title'].replace(',','').replace('\\n','')))\n",
    "\n",
    "    \n",
    "    \n",
    "    \n",
    "    \n",
    "if __name__ == '__main__':                \n",
    "    #Initial seed\n",
    "    #G = nx.Graph()\n",
    "    #temp = run_network_analysis('Graphene',10,10)\n",
    "    #Initial seed\n",
    "    seed_words = ['Graphene']\n",
    "    \n",
    "    for seed_word in seed_words:\n",
    "        G = nx.Graph()\n",
    "        a = search_all(seed_word,0,50)\n",
    "\n",
    "        author_list = authors_and_titles(a)\n",
    "\n",
    "        for i in author_list[2]:\n",
    "            b = search_author(i,'0','50')\n",
    "            b = authors_and_titles(b)\n",
    "            if type(b) != type(None):\n",
    "                new_network_generation(b[0])\n",
    "            \n",
    "        saving_graph(G,seed_word+'.csv')\n",
    "        nx.write_gpickle(G,seed_word+'.pickle')\n",
    "    \n",
    "\n",
    "\n",
    "\n",
    "                \n",
    "\n",
    "\n",
    "\n",
    "\n",
    "\n",
    "\n",
    "\n",
    "\n",
    "\n"
   ]
  },
  {
   "cell_type": "code",
   "execution_count": 77,
   "metadata": {
    "collapsed": false
   },
   "outputs": [
    {
     "data": {
      "text/plain": [
       "True"
      ]
     },
     "execution_count": 77,
     "metadata": {},
     "output_type": "execute_result"
    }
   ],
   "source": [
    "'entry' not in b['feed'].keys()"
   ]
  },
  {
   "cell_type": "code",
   "execution_count": 16,
   "metadata": {
    "collapsed": false
   },
   "outputs": [
    {
     "name": "stdout",
     "output_type": "stream",
     "text": [
      "{'author': ['Ajmala Shireen', 'Rana Saha', 'A. Sundaresan', 'C. N. R. Rao'], 'title': 'Large magnetoelectric effect in the Al1-xGaxFeO3 family of multiferroic\\n  Oxides'}\n",
      "{'author': ['M. S. Ramachandra Rao', 'S. Dhar', 'S. J. Welz', 'S. B. Ogale', 'Darshan C. Kundaliya', 'S. R. Shinde', 'S. E. Lofland', 'C. J. Metting', 'R. Erni', 'N. D. Browning', 'T. Venkatesan'], 'title': 'A new ferromagnetic insulator with giant magnetic moment-Co:HfO2'}\n",
      "{'author': ['Barun Das', 'Rakesh Voggu', 'Chandra Sekhar Rout', 'C. N. R. Rao'], 'title': 'Changes in the electronic structure and properties of graphene induced\\n  by molecular charge-transfer'}\n",
      "{'author': ['Rakesh Voggu', 'A. Govindaraj', 'C. N. R. Rao'], 'title': 'A New Method of Obtaining High Enrichment of Metallic Single-Walled\\n  Carbon Nanotubes'}\n",
      "{'author': ['Prashant Kumar', 'K. S. Subrahmanyam', 'C. N. R. Rao'], 'title': 'Graphene produced by radiation-induced reduction of graphene oxide'}\n",
      "{'author': ['Claudy Rayan Serrao', 'A Sundaresan', 'C N R Rao'], 'title': 'Multiferroic nature of charge-ordered rare earth manganites'}\n",
      "{'author': ['H. S. S. Ramakrishna Matte', 'K. S. Subrahmanyam', 'C. N. R. Rao'], 'title': 'Novel magnetic properties of graphene: Presence of both ferromagnetic\\n  and antiferromagnetic features and other aspects'}\n",
      "{'author': ['Anupama Ghosh', 'Dattatray J. Late', 'L. S. Panchakarla', 'A. Govindaraj', 'C. N. R. Rao'], 'title': 'NO2 and Humidity Sensing Characteristics of Few-layer Graphene'}\n",
      "{'author': ['A. Sundaresan', 'C. N. R. Rao'], 'title': 'Implications and consequences of ferromagnetism universally exhibited by\\n  inorganic nanoparticles'}\n",
      "{'author': ['Rakesh Voggu', 'Chandra Sekhar Rout', 'Aaron D. Franklin', 'Timothy S. Fisher', 'C. N. R. Rao'], 'title': 'Extraordinary sensitivity of the electronic structure and properties of\\n  single-walled carbon nanotubes to molecular charge-transfer'}\n"
     ]
    }
   ],
   "source": [
    "for element in b[0]:\n",
    "    print(element)"
   ]
  },
  {
   "cell_type": "code",
   "execution_count": 79,
   "metadata": {
    "collapsed": false
   },
   "outputs": [
    {
     "data": {
      "text/plain": [
       "20756"
      ]
     },
     "execution_count": 79,
     "metadata": {},
     "output_type": "execute_result"
    }
   ],
   "source": [
    "len(G.nodes())"
   ]
  },
  {
   "cell_type": "code",
   "execution_count": 69,
   "metadata": {
    "collapsed": true
   },
   "outputs": [],
   "source": [
    "nx.write_gpickle(G,'pickle_test.pickle')"
   ]
  },
  {
   "cell_type": "code",
   "execution_count": 23,
   "metadata": {
    "collapsed": false
   },
   "outputs": [],
   "source": [
    "temp = run_network_analysis('Graphene',10,10)"
   ]
  },
  {
   "cell_type": "code",
   "execution_count": 33,
   "metadata": {
    "collapsed": false
   },
   "outputs": [
    {
     "data": {
      "text/plain": [
       "{'title': 'Thermodynamically stable lithium silicides and germanides from\\n  density-functional theory calculations'}"
      ]
     },
     "execution_count": 33,
     "metadata": {},
     "output_type": "execute_result"
    }
   ],
   "source": [
    "G.node['C. P. Grey']"
   ]
  },
  {
   "cell_type": "code",
   "execution_count": 26,
   "metadata": {
    "collapsed": false
   },
   "outputs": [
    {
     "data": {
      "text/plain": [
       "[]"
      ]
     },
     "execution_count": 26,
     "metadata": {},
     "output_type": "execute_result"
    }
   ],
   "source": [
    "temp.nodes()"
   ]
  },
  {
   "cell_type": "code",
   "execution_count": 66,
   "metadata": {
    "collapsed": false
   },
   "outputs": [],
   "source": [
    "def saving_graph(G):\n",
    "    with open('output.csv','a') as f:\n",
    "        for node in G.nodes():\n",
    "            f.write(\"{},{}\\n\".format(node,G.node[node]['title'].replace(',','').replace('\\n','')))\n"
   ]
  },
  {
   "cell_type": "code",
   "execution_count": 67,
   "metadata": {
    "collapsed": false
   },
   "outputs": [],
   "source": [
    "saving_graph(G)"
   ]
  }
 ],
 "metadata": {
  "kernelspec": {
   "display_name": "Python 3",
   "language": "python",
   "name": "python3"
  },
  "language_info": {
   "codemirror_mode": {
    "name": "ipython",
    "version": 3
   },
   "file_extension": ".py",
   "mimetype": "text/x-python",
   "name": "python",
   "nbconvert_exporter": "python",
   "pygments_lexer": "ipython3",
   "version": "3.5.2"
  }
 },
 "nbformat": 4,
 "nbformat_minor": 0
}
