{
 "cells": [
  {
   "cell_type": "code",
   "execution_count": 10,
   "metadata": {
    "collapsed": true
   },
   "outputs": [],
   "source": [
    "import zs.bibtex as zs\n",
    "from zs.bibtex.parser import parse_string\n",
    "import networkx as nx\n",
    "import itertools\n",
    "import subprocess"
   ]
  },
  {
   "cell_type": "code",
   "execution_count": 11,
   "metadata": {
    "collapsed": true
   },
   "outputs": [],
   "source": [
    "def parsing_csv(data):\n",
    "    temp = str(data)[2:].split('@')\n",
    "    temp = ['@' + i.replace('\\\\n','').replace(\"'\",\"\").replace('\"','') for i in temp]\n",
    "    temp = [parse_string(i) for i in temp[1:]]\n",
    "    return temp"
   ]
  },
  {
   "cell_type": "code",
   "execution_count": 12,
   "metadata": {
    "collapsed": true
   },
   "outputs": [],
   "source": [
    "def processing_parse(data):\n",
    "    out = [i[list(i.keys())[0]]['author'] for i in data]\n",
    "    return out"
   ]
  },
  {
   "cell_type": "code",
   "execution_count": 13,
   "metadata": {
    "collapsed": true
   },
   "outputs": [],
   "source": [
    "def processing_parse(data):\n",
    "    out = []\n",
    "    for i in data:\n",
    "        authors = i[list(i.keys())[0]]['author']\n",
    "        title = i[list(i.keys())[0]]['title']\n",
    "        out.append({'author':authors,'title':title})\n",
    "        print(authors,title)\n",
    "    return out\n",
    "        #print(i[list(i.keys())[0]]['author'])"
   ]
  },
  {
   "cell_type": "code",
   "execution_count": 14,
   "metadata": {
    "collapsed": true
   },
   "outputs": [],
   "source": [
    "def python_request_author(author):\n",
    "    test = subprocess.Popen([\"python2\", \"scholar.py\",\"-c\",\"50\",\"-a\",\"{}\".format(author),'--citation=bt'], stdout=subprocess.PIPE)\n",
    "    output = test.communicate()[0]\n",
    "    return output\n"
   ]
  },
  {
   "cell_type": "code",
   "execution_count": 15,
   "metadata": {
    "collapsed": true
   },
   "outputs": [],
   "source": [
    "def python_request_words(words):\n",
    "    test = subprocess.Popen([\"python2\", \"scholar.py\",\"-c\",\"50\",\"-all\",\"{}\".format(words),'--citation=bt'], stdout=subprocess.PIPE)\n",
    "    output = test.communicate()[0]\n",
    "    return output"
   ]
  },
  {
   "cell_type": "code",
   "execution_count": 15,
   "metadata": {
    "collapsed": false,
    "scrolled": true
   },
   "outputs": [
    {
     "name": "stdout",
     "output_type": "stream",
     "text": [
      "['Parasuraman, Anantharanthan', 'Zeithaml, Valarie A', 'Berry, Leonard L'] Servqual: A multiple-item scale for measuring consumer perc\n",
      "['Parasuraman, Anantharanthan', 'Zeithaml, Valarie A', 'Berry, Leonard L'] A conceptual model of service quality and its implications for future research\n",
      "['Parasuraman, Anantharanthan', 'Berry, Leonard L', 'Zeithaml, Valarie A'] Refinement and reassessment of the SERVQUAL scale\n",
      "['Berry, Leonard L', 'Parasuraman, Anantharanthan'] Marketing services: Competing through quality\n",
      "['Zeithaml, Valarie A', 'Berry, Leonard L', 'Parasuraman, Anantharanthan'] Communication and control processes in the delivery of service quality\n",
      "['Berry, Leonard L', 'Zeithaml, Valarie A', 'Parasuraman, Anantharanthan'] Five imperatives for improving service quality\n",
      "['Berry, Leonard L', 'Parasuraman, Anantharanthan', 'Zeithaml, Valarie A'] The service-quality puzzle\n",
      "['Berry, Leonard L', 'Parasuraman, Anantharanthan', 'Zeithaml, Valerie A'] Improving service quality in America: lessons learned\n",
      "['Johnston, Mark W', 'Parasuraman, Anantharanthan', 'Futrell, Charles M', 'Black, William C'] A longitudinal assessment of the impact of selected organizational influences on salespeoples organizational commitment during early employment\n",
      "['Parasuraman, Anantharanthan', 'Berry, Leonard L', 'Zeithaml, Valarie A'] Perceived service quality as a customer-based performance measure: An empirical examination of organizational barriers using an extended service quality model\n",
      "['Parasuraman, Anantharanthan', 'Zeithaml, Valarie A', 'Berry, Leonard L'] Servqual: A multiple-item scale for measuring consumer perc\n",
      "['Parasuraman, Anantharanthan', 'Zeithaml, Valarie A', 'Berry, Leonard L'] A conceptual model of service quality and its implications for future research\n",
      "['Zeithaml, Valarie A', 'Berry, Leonard L', 'Parasuraman, Ananthanarayanan'] The behavioral consequences of service quality\n",
      "Zeithaml, Valarie A Consumer perceptions of price, quality, and value: a means-end model and synthesis of evidence\n",
      "['Zeithaml, Valarie A', 'Bitner, Mary Jo', 'Gremler, Dwayne D'] Services marketing: Integrating customer focus across the firm\n",
      "['Zeithaml, Valarie A', 'Parasuraman, Anathanarayanan', 'Berry, Leonard L'] Delivering quality service: Balancing customer perceptions and expectations\n",
      "['Parasuraman, Anantharanthan', 'Berry, Leonard L', 'Zeithaml, Valarie A'] Refinement and reassessment of the SERVQUAL scale\n",
      "['Boulding, William', 'Kalra, Ajay', 'Staelin, Richard', 'Zeithaml, Valarie A'] A dynamic process model of service quality: from expectations to behavioral intentions\n",
      "['Parasuraman, Ananthanarayanan', 'Zeithaml, Valarie A', 'Berry, Leonard L'] Reassessment of expectations as a comparison standard in measuring service quality: implications for further research\n",
      "['Zeithaml, Valarie A', 'Parasuraman, Ananthanarayanan', 'Berry, Leonard L'] Problems and strategies in services marketing\n"
     ]
    }
   ],
   "source": [
    "G = nx.Graph()\n",
    "author_list = []\n",
    "seed_word = 'Bubbles'\n",
    "initial_seed = python_request_words(seed_word)\n",
    "initial_seed_processed = parsing_csv(initial_seed)\n",
    "for paper in initial_seed_processed:\n",
    "    #paper[list(paper.keys())][0]\n",
    "    element = paper[list(paper.keys())[0]]\n",
    "    authors = element['author']\n",
    "    title = element['title']\n",
    "    for author in authors:\n",
    "        author_list.extend([author])\n",
    "        G.add_node(author,title = title)\n",
    "    a = list(itertools.combinations(authors,2))\n",
    "    for i in a:\n",
    "        G.add_edge(*i)\n",
    "\n",
    "for author in author_list[:2]:\n",
    "    temp = python_request_author(author)\n",
    "    if len(temp) == 0:\n",
    "        print('Request limit reached')\n",
    "        break \n",
    "    temp = parsing_csv(temp)\n",
    "    temp = processing_parse(temp)\n",
    "    for element in temp:\n",
    "        for author_2 in element['author']:\n",
    "            author_list.append(author_2)\n",
    "            G.add_node(author,title = element['title'])\n",
    "        \n",
    "        a = list(itertools.combinations(element['author'],2))\n",
    "        for i in a:\n",
    "            G.add_edge(*i)\n",
    "    nx.write_gml(G,seed_word + '.gml')\n",
    "    nx.write_gpickle(G,seed_word + '.pickle')\n",
    "            "
   ]
  }
 ],
 "metadata": {
  "kernelspec": {
   "display_name": "Python 3",
   "language": "python",
   "name": "python3"
  },
  "language_info": {
   "codemirror_mode": {
    "name": "ipython",
    "version": 3
   },
   "file_extension": ".py",
   "mimetype": "text/x-python",
   "name": "python",
   "nbconvert_exporter": "python",
   "pygments_lexer": "ipython3",
   "version": "3.5.2"
  }
 },
 "nbformat": 4,
 "nbformat_minor": 0
}
